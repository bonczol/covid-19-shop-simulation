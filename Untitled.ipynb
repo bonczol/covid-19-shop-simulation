{
 "cells": [
  {
   "cell_type": "code",
   "execution_count": 1,
   "metadata": {},
   "outputs": [],
   "source": [
    "from mesa.batchrunner import BatchRunner\n",
    "from model import CovidModel\n",
    "import numpy as np\n"
   ]
  },
  {
   "cell_type": "code",
   "execution_count": 2,
   "metadata": {},
   "outputs": [
    {
     "data": {
      "text/plain": [
       "array([0.  , 0.05, 0.1 , 0.15, 0.2 , 0.25, 0.3 , 0.35, 0.4 , 0.45, 0.5 ,\n",
       "       0.55, 0.6 , 0.65, 0.7 , 0.75, 0.8 , 0.85, 0.9 , 0.95])"
      ]
     },
     "execution_count": 2,
     "metadata": {},
     "output_type": "execute_result"
    }
   ],
   "source": [
    "np.arange(0, 1, 0.05)"
   ]
  },
  {
   "cell_type": "code",
   "execution_count": 3,
   "metadata": {},
   "outputs": [],
   "source": [
    "fixed_params = { \n",
    "#     \"num_customers\": 15,\n",
    "    \"sick_percent\": 0.1,\n",
    "    \"mask_percent\": 0.5,\n",
    "    \"death_ratio\": 0.02,\n",
    "    \"death_ratio_rg\": 0.12,\n",
    "    \"virus_duration\": 20,\n",
    "    \"risk_group_percent\":0.25,\n",
    "    \"infect_shelf_prob\": 0.2,\n",
    "    \"sick_cashiers_num\": 1,\n",
    "    \"cashiers_masks\": True} \n",
    "\n",
    "\n",
    "variable_parms = {\n",
    "#     WOjtek\n",
    "    \"num_customers\": [5,10,20,30],\n",
    "#     \"sick_percent\": np.arange(0.1, 0.55, 0.1),\n",
    "#     \"mask_percent\": np.arange(0, 1.1, 0.33),\n",
    "#     FILIp\n",
    "#     \"risk_group_percent\":np.arange(0, 1, 0.05),\n",
    "#     \"infect_shelf_prob\": np.arange(0, 0.7, 0.3),\n",
    "#     \"sick_cashiers_num\": np.arange(0,5,2)\n",
    "}"
   ]
  },
  {
   "cell_type": "code",
   "execution_count": 4,
   "metadata": {},
   "outputs": [],
   "source": [
    "def get_infections(model):\n",
    "    return model.infections\n",
    "\n",
    "def get_sick_customers(model):\n",
    "    return model.sick_customers\n",
    "\n",
    "def get_customers(model):\n",
    "    return model.customers"
   ]
  },
  {
   "cell_type": "code",
   "execution_count": 5,
   "metadata": {},
   "outputs": [],
   "source": [
    "model_reporters = {\"infections\": get_infections,\n",
    "                  \"sick_customers\": get_sick_customers,\n",
    "                  \"customers\": get_customers}\n",
    "                    "
   ]
  },
  {
   "cell_type": "code",
   "execution_count": null,
   "metadata": {},
   "outputs": [],
   "source": [
    "param_sweep = BatchRunner(CovidModel,\n",
    "                          variable_parameters=variable_parms,\n",
    "                          fixed_parameters=fixed_params,\n",
    "                          iterations=10, \n",
    "                          max_steps=2000,\n",
    "                          model_reporters=model_reporters)"
   ]
  },
  {
   "cell_type": "code",
   "execution_count": null,
   "metadata": {},
   "outputs": [],
   "source": [
    "param_sweep.run_all()"
   ]
  },
  {
   "cell_type": "code",
   "execution_count": null,
   "metadata": {},
   "outputs": [],
   "source": [
    "df =param_sweep.get_model_vars_dataframe()\n"
   ]
  },
  {
   "cell_type": "code",
   "execution_count": null,
   "metadata": {},
   "outputs": [],
   "source": [
    "df\n"
   ]
  },
  {
   "cell_type": "code",
   "execution_count": null,
   "metadata": {},
   "outputs": [],
   "source": []
  }
 ],
 "metadata": {
  "kernelspec": {
   "display_name": "Python 3",
   "language": "python",
   "name": "python3"
  },
  "language_info": {
   "codemirror_mode": {
    "name": "ipython",
    "version": 3
   },
   "file_extension": ".py",
   "mimetype": "text/x-python",
   "name": "python",
   "nbconvert_exporter": "python",
   "pygments_lexer": "ipython3",
   "version": "3.7.2"
  }
 },
 "nbformat": 4,
 "nbformat_minor": 4
}
